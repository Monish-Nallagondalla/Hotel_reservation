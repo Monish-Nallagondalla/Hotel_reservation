{
 "cells": [
  {
   "cell_type": "code",
   "execution_count": 3,
   "id": "360fdbd6",
   "metadata": {},
   "outputs": [],
   "source": [
    "import os\n",
    "%pwd\n",
    "\n",
    "os.chdir(\"../\")"
   ]
  },
  {
   "cell_type": "code",
   "execution_count": null,
   "id": "e634ccf6",
   "metadata": {},
   "outputs": [],
   "source": [
    "import os\n",
    "import pandas as pd\n",
    "from sklearn.model_selection import train_test_split\n",
    "\n"
   ]
  },
  {
   "cell_type": "code",
   "execution_count": 7,
   "id": "4fd202a5",
   "metadata": {},
   "outputs": [],
   "source": [
    "RAW_DIR = \"artifacts/raw\"\n",
    "RAW_FILE_PATH = os.path.join(RAW_DIR,\"raw.csv\")\n",
    "TRAIN_FILE_PATH = os.path.join(RAW_DIR,\"train.csv\")\n",
    "TEST_FILE_PATH = os.path.join(RAW_DIR,\"test.csv\")\n",
    "\n",
    "CONFIG_PATH = \"config/config.yaml\""
   ]
  },
  {
   "cell_type": "code",
   "execution_count": 8,
   "id": "7227a28a",
   "metadata": {},
   "outputs": [],
   "source": [
    "os.makedirs(RAW_DIR , exist_ok=True)"
   ]
  },
  {
   "cell_type": "code",
   "execution_count": 9,
   "id": "3a6c0dde",
   "metadata": {},
   "outputs": [],
   "source": [
    "data = pd.read_csv(RAW_FILE_PATH)"
   ]
  },
  {
   "cell_type": "code",
   "execution_count": 11,
   "id": "bc37b4ef",
   "metadata": {},
   "outputs": [],
   "source": [
    "train_data , test_data = train_test_split(data , test_size=0.2 , random_state=42)"
   ]
  },
  {
   "cell_type": "code",
   "execution_count": 12,
   "id": "8b9bc853",
   "metadata": {},
   "outputs": [],
   "source": [
    "train_data.to_csv(TRAIN_FILE_PATH)\n",
    "test_data.to_csv(TEST_FILE_PATH)"
   ]
  },
  {
   "cell_type": "code",
   "execution_count": null,
   "id": "3f7308c2",
   "metadata": {},
   "outputs": [],
   "source": []
  }
 ],
 "metadata": {
  "kernelspec": {
   "display_name": "venv",
   "language": "python",
   "name": "python3"
  },
  "language_info": {
   "codemirror_mode": {
    "name": "ipython",
    "version": 3
   },
   "file_extension": ".py",
   "mimetype": "text/x-python",
   "name": "python",
   "nbconvert_exporter": "python",
   "pygments_lexer": "ipython3",
   "version": "3.8.13"
  }
 },
 "nbformat": 4,
 "nbformat_minor": 5
}
